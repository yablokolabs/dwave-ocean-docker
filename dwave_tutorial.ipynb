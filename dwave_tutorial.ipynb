{
 "cells": [
  {
   "cell_type": "markdown",
   "metadata": {},
   "source": [
    "# D-Wave Ocean SDK Tutorial\n",
    "\n",
    "This notebook demonstrates basic usage of the D-Wave Ocean SDK for quantum annealing problems."
   ]
  },
  {
   "cell_type": "code",
   "execution_count": null,
   "metadata": {},
   "outputs": [],
   "source": [
    "# Import necessary libraries\n",
    "import dimod\n",
    "from dwave.samplers import SimulatedAnnealingSampler\n",
    "import matplotlib.pyplot as plt\n",
    "import numpy as np\n",
    "\n",
    "print(\"D-Wave Ocean SDK imported successfully!\")"
   ]
  },
  {
   "cell_type": "markdown",
   "metadata": {},
   "source": [
    "## Example 1: Simple QUBO Problem\n",
    "\n",
    "Let's solve a simple quadratic unconstrained binary optimization problem."
   ]
  },
  {
   "cell_type": "code",
   "execution_count": null,
   "metadata": {},
   "outputs": [],
   "source": [
    "# Define a QUBO: minimize x0 - 2*x1 + 3*x0*x1\n",
    "Q = {('x0', 'x0'): 1, ('x1', 'x1'): -2, ('x0', 'x1'): 3}\n",
    "\n",
    "# Create Binary Quadratic Model\n",
    "bqm = dimod.BinaryQuadraticModel.from_qubo(Q)\n",
    "\n",
    "# Use simulated annealing\n",
    "sampler = SimulatedAnnealingSampler()\n",
    "sampleset = sampler.sample(bqm, num_reads=1000)\n",
    "\n",
    "print(\"Best solution found:\")\n",
    "print(f\"Variables: {sampleset.first.sample}\")\n",
    "print(f\"Energy: {sampleset.first.energy}\")"
   ]
  },
  {
   "cell_type": "markdown",
   "metadata": {},
   "source": [
    "## Example 2: Visualizing Results\n",
    "\n",
    "Let's visualize the energy distribution of our samples."
   ]
  },
  {
   "cell_type": "code",
   "execution_count": null,
   "metadata": {},
   "outputs": [],
   "source": [
    "# Extract energies\n",
    "energies = [datum.energy for datum in sampleset.data()]\n",
    "\n",
    "# Create histogram\n",
    "plt.figure(figsize=(10, 6))\n",
    "plt.hist(energies, bins=20, edgecolor='black', alpha=0.7)\n",
    "plt.xlabel('Energy')\n",
    "plt.ylabel('Frequency')\n",
    "plt.title('Distribution of Sample Energies')\n",
    "plt.axvline(sampleset.first.energy, color='red', linestyle='--', \n",
    "           label=f'Best Energy: {sampleset.first.energy}')\n",
    "plt.legend()\n",
    "plt.grid(True, alpha=0.3)\n",
    "plt.show()\n",
    "\n",
    "print(f\"Total samples: {len(sampleset)}\")\n",
    "print(f\"Unique energies: {len(set(energies))}\")\n",
    "print(f\"Energy range: {min(energies)} to {max(energies)}\")"
   ]
  },
  {
   "cell_type": "markdown",
   "metadata": {},
   "source": [
    "## Example 3: Interactive Problem Setup\n",
    "\n",
    "Create your own small QUBO problem:"
   ]
  },
  {
   "cell_type": "code",
   "execution_count": null,
   "metadata": {},
   "outputs": [],
   "source": [
    "# Interactive QUBO builder\n",
    "def solve_custom_qubo(linear_terms, quadratic_terms):\n",
    "    \"\"\"\n",
    "    Solve a custom QUBO problem.\n",
    "    \n",
    "    Args:\n",
    "        linear_terms: dict of {variable: coefficient}\n",
    "        quadratic_terms: dict of {(var1, var2): coefficient}\n",
    "    \"\"\"\n",
    "    Q = {}\n",
    "    \n",
    "    # Add linear terms\n",
    "    for var, coeff in linear_terms.items():\n",
    "        Q[(var, var)] = coeff\n",
    "    \n",
    "    # Add quadratic terms\n",
    "    for (var1, var2), coeff in quadratic_terms.items():\n",
    "        Q[(var1, var2)] = coeff\n",
    "    \n",
    "    # Solve\n",
    "    bqm = dimod.BinaryQuadraticModel.from_qubo(Q)\n",
    "    sampler = SimulatedAnnealingSampler()\n",
    "    sampleset = sampler.sample(bqm, num_reads=100)\n",
    "    \n",
    "    return sampleset\n",
    "\n",
    "# Example: minimize 2*x - 3*y + xy\n",
    "linear = {'x': 2, 'y': -3}\n",
    "quadratic = {('x', 'y'): 1}\n",
    "\n",
    "result = solve_custom_qubo(linear, quadratic)\n",
    "print(\"Custom QUBO solution:\")\n",
    "print(f\"Best solution: {result.first.sample}\")\n",
    "print(f\"Best energy: {result.first.energy}\")"
   ]
  },
  {
   "cell_type": "markdown",
   "metadata": {},
   "source": [
    "## Next Steps\n",
    "\n",
    "Try modifying the problems above or create your own! Some ideas:\n",
    "\n",
    "1. **Portfolio optimization**: Optimize asset allocation\n",
    "2. **Graph coloring**: Color a graph with minimum colors\n",
    "3. **Job scheduling**: Optimize task scheduling\n",
    "4. **Maximum cut**: Find the maximum cut in a graph\n",
    "\n",
    "For real D-Wave hardware access, you'll need to:\n",
    "1. Sign up at https://cloud.dwavesys.com/\n",
    "2. Get an API token\n",
    "3. Configure it with `dwave config create`"
   ]
  }
 ],
 "metadata": {
  "kernelspec": {
   "display_name": "Python 3",
   "language": "python",
   "name": "python3"
  },
  "language_info": {
   "codemirror_mode": {
    "name": "ipython",
    "version": 3
   },
   "file_extension": ".py",
   "mimetype": "text/x-python",
   "name": "python",
   "nbconvert_exporter": "python",
   "pygments_lexer": "ipython3",
   "version": "3.8.5"
  }
 },
 "nbformat": 4,
 "nbformat_minor": 4
}
